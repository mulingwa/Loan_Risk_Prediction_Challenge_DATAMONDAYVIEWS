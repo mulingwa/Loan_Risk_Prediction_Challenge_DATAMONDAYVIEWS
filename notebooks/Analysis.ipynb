{
 "cells": [
  {
   "cell_type": "code",
   "execution_count": 1,
   "metadata": {},
   "outputs": [],
   "source": [
    "#pip install --upgrade pip\n",
    "#%pip install seaborn"
   ]
  },
  {
   "cell_type": "code",
   "execution_count": 2,
   "metadata": {},
   "outputs": [],
   "source": [
    "#import necessary libraries\n",
    "import pandas as pd\n",
    "import numpy as np\n",
    "import matplotlib.pyplot as plt\n",
    "import seaborn as sns\n",
    "%matplotlib inline\n",
    "from scipy import stats\n"
   ]
  },
  {
   "cell_type": "code",
   "execution_count": 3,
   "metadata": {},
   "outputs": [
    {
     "data": {
      "text/html": [
       "<div>\n",
       "<style scoped>\n",
       "    .dataframe tbody tr th:only-of-type {\n",
       "        vertical-align: middle;\n",
       "    }\n",
       "\n",
       "    .dataframe tbody tr th {\n",
       "        vertical-align: top;\n",
       "    }\n",
       "\n",
       "    .dataframe thead th {\n",
       "        text-align: right;\n",
       "    }\n",
       "</style>\n",
       "<table border=\"1\" class=\"dataframe\">\n",
       "  <thead>\n",
       "    <tr style=\"text-align: right;\">\n",
       "      <th></th>\n",
       "      <th>Id</th>\n",
       "      <th>Age</th>\n",
       "      <th>Income</th>\n",
       "      <th>Home</th>\n",
       "      <th>Emp_length</th>\n",
       "      <th>Intent</th>\n",
       "      <th>Amount</th>\n",
       "      <th>Rate</th>\n",
       "      <th>Status</th>\n",
       "      <th>Percent_income</th>\n",
       "      <th>Default</th>\n",
       "      <th>Cred_length</th>\n",
       "    </tr>\n",
       "  </thead>\n",
       "  <tbody>\n",
       "    <tr>\n",
       "      <th>0</th>\n",
       "      <td>13116</td>\n",
       "      <td>23</td>\n",
       "      <td>88000</td>\n",
       "      <td>MORTGAGE</td>\n",
       "      <td>2.0</td>\n",
       "      <td>MEDICAL</td>\n",
       "      <td>6625</td>\n",
       "      <td>11.22</td>\n",
       "      <td>0</td>\n",
       "      <td>0.08</td>\n",
       "      <td>Y</td>\n",
       "      <td>3</td>\n",
       "    </tr>\n",
       "    <tr>\n",
       "      <th>1</th>\n",
       "      <td>1742</td>\n",
       "      <td>23</td>\n",
       "      <td>30000</td>\n",
       "      <td>RENT</td>\n",
       "      <td>0.0</td>\n",
       "      <td>PERSONAL</td>\n",
       "      <td>1925</td>\n",
       "      <td>12.18</td>\n",
       "      <td>0</td>\n",
       "      <td>0.06</td>\n",
       "      <td>N</td>\n",
       "      <td>2</td>\n",
       "    </tr>\n",
       "    <tr>\n",
       "      <th>2</th>\n",
       "      <td>27672</td>\n",
       "      <td>32</td>\n",
       "      <td>160000</td>\n",
       "      <td>MORTGAGE</td>\n",
       "      <td>9.0</td>\n",
       "      <td>DEBTCONSOLIDATION</td>\n",
       "      <td>12000</td>\n",
       "      <td>7.88</td>\n",
       "      <td>0</td>\n",
       "      <td>0.07</td>\n",
       "      <td>N</td>\n",
       "      <td>8</td>\n",
       "    </tr>\n",
       "    <tr>\n",
       "      <th>3</th>\n",
       "      <td>24694</td>\n",
       "      <td>29</td>\n",
       "      <td>75000</td>\n",
       "      <td>OWN</td>\n",
       "      <td>3.0</td>\n",
       "      <td>HOMEIMPROVEMENT</td>\n",
       "      <td>12000</td>\n",
       "      <td>7.51</td>\n",
       "      <td>0</td>\n",
       "      <td>0.16</td>\n",
       "      <td>N</td>\n",
       "      <td>5</td>\n",
       "    </tr>\n",
       "    <tr>\n",
       "      <th>4</th>\n",
       "      <td>1994</td>\n",
       "      <td>22</td>\n",
       "      <td>28800</td>\n",
       "      <td>RENT</td>\n",
       "      <td>2.0</td>\n",
       "      <td>VENTURE</td>\n",
       "      <td>14000</td>\n",
       "      <td>7.90</td>\n",
       "      <td>1</td>\n",
       "      <td>0.49</td>\n",
       "      <td>N</td>\n",
       "      <td>2</td>\n",
       "    </tr>\n",
       "  </tbody>\n",
       "</table>\n",
       "</div>"
      ],
      "text/plain": [
       "      Id  Age  Income      Home  Emp_length             Intent  Amount   Rate  \\\n",
       "0  13116   23   88000  MORTGAGE         2.0            MEDICAL    6625  11.22   \n",
       "1   1742   23   30000      RENT         0.0           PERSONAL    1925  12.18   \n",
       "2  27672   32  160000  MORTGAGE         9.0  DEBTCONSOLIDATION   12000   7.88   \n",
       "3  24694   29   75000       OWN         3.0    HOMEIMPROVEMENT   12000   7.51   \n",
       "4   1994   22   28800      RENT         2.0            VENTURE   14000   7.90   \n",
       "\n",
       "   Status  Percent_income Default  Cred_length  \n",
       "0       0            0.08       Y            3  \n",
       "1       0            0.06       N            2  \n",
       "2       0            0.07       N            8  \n",
       "3       0            0.16       N            5  \n",
       "4       1            0.49       N            2  "
      ]
     },
     "execution_count": 3,
     "metadata": {},
     "output_type": "execute_result"
    }
   ],
   "source": [
    "#importing data\n",
    "df = pd.read_csv(r'C:\\Users\\ADMIN\\Documents\\Loan Risk\\Loan_Risk_Prediction_Challenge_DATAMONDAYVIEWS\\data\\Loan prediction mini dataset.csv')\n",
    "df.head()\n"
   ]
  },
  {
   "cell_type": "markdown",
   "metadata": {},
   "source": [
    "## Data Description"
   ]
  },
  {
   "cell_type": "code",
   "execution_count": 4,
   "metadata": {},
   "outputs": [
    {
     "data": {
      "text/plain": [
       "(8145, 12)"
      ]
     },
     "execution_count": 4,
     "metadata": {},
     "output_type": "execute_result"
    }
   ],
   "source": [
    "#summary of the data -> 8145 rows, 12 columns\n",
    "df.shape"
   ]
  },
  {
   "cell_type": "code",
   "execution_count": 5,
   "metadata": {},
   "outputs": [
    {
     "data": {
      "text/html": [
       "<div>\n",
       "<style scoped>\n",
       "    .dataframe tbody tr th:only-of-type {\n",
       "        vertical-align: middle;\n",
       "    }\n",
       "\n",
       "    .dataframe tbody tr th {\n",
       "        vertical-align: top;\n",
       "    }\n",
       "\n",
       "    .dataframe thead th {\n",
       "        text-align: right;\n",
       "    }\n",
       "</style>\n",
       "<table border=\"1\" class=\"dataframe\">\n",
       "  <thead>\n",
       "    <tr style=\"text-align: right;\">\n",
       "      <th></th>\n",
       "      <th>Id</th>\n",
       "      <th>Age</th>\n",
       "      <th>Income</th>\n",
       "      <th>Emp_length</th>\n",
       "      <th>Amount</th>\n",
       "      <th>Rate</th>\n",
       "      <th>Status</th>\n",
       "      <th>Percent_income</th>\n",
       "      <th>Cred_length</th>\n",
       "    </tr>\n",
       "  </thead>\n",
       "  <tbody>\n",
       "    <tr>\n",
       "      <th>count</th>\n",
       "      <td>8145.000000</td>\n",
       "      <td>8145.000000</td>\n",
       "      <td>8.145000e+03</td>\n",
       "      <td>7909.000000</td>\n",
       "      <td>8145.000000</td>\n",
       "      <td>7383.000000</td>\n",
       "      <td>8145.000000</td>\n",
       "      <td>8145.000000</td>\n",
       "      <td>8145.000000</td>\n",
       "    </tr>\n",
       "    <tr>\n",
       "      <th>mean</th>\n",
       "      <td>16269.966974</td>\n",
       "      <td>27.689748</td>\n",
       "      <td>6.528496e+04</td>\n",
       "      <td>4.728790</td>\n",
       "      <td>9695.656845</td>\n",
       "      <td>11.040731</td>\n",
       "      <td>0.218171</td>\n",
       "      <td>0.171769</td>\n",
       "      <td>5.767342</td>\n",
       "    </tr>\n",
       "    <tr>\n",
       "      <th>std</th>\n",
       "      <td>9394.610528</td>\n",
       "      <td>6.229731</td>\n",
       "      <td>5.278421e+04</td>\n",
       "      <td>3.991919</td>\n",
       "      <td>6389.975388</td>\n",
       "      <td>3.226149</td>\n",
       "      <td>0.413029</td>\n",
       "      <td>0.106168</td>\n",
       "      <td>3.981448</td>\n",
       "    </tr>\n",
       "    <tr>\n",
       "      <th>min</th>\n",
       "      <td>4.000000</td>\n",
       "      <td>20.000000</td>\n",
       "      <td>4.000000e+03</td>\n",
       "      <td>0.000000</td>\n",
       "      <td>500.000000</td>\n",
       "      <td>5.420000</td>\n",
       "      <td>0.000000</td>\n",
       "      <td>0.000000</td>\n",
       "      <td>2.000000</td>\n",
       "    </tr>\n",
       "    <tr>\n",
       "      <th>25%</th>\n",
       "      <td>8134.000000</td>\n",
       "      <td>23.000000</td>\n",
       "      <td>3.860400e+04</td>\n",
       "      <td>2.000000</td>\n",
       "      <td>5000.000000</td>\n",
       "      <td>7.900000</td>\n",
       "      <td>0.000000</td>\n",
       "      <td>0.090000</td>\n",
       "      <td>3.000000</td>\n",
       "    </tr>\n",
       "    <tr>\n",
       "      <th>50%</th>\n",
       "      <td>16280.000000</td>\n",
       "      <td>26.000000</td>\n",
       "      <td>5.500000e+04</td>\n",
       "      <td>4.000000</td>\n",
       "      <td>8000.000000</td>\n",
       "      <td>10.990000</td>\n",
       "      <td>0.000000</td>\n",
       "      <td>0.150000</td>\n",
       "      <td>4.000000</td>\n",
       "    </tr>\n",
       "    <tr>\n",
       "      <th>75%</th>\n",
       "      <td>24325.000000</td>\n",
       "      <td>30.000000</td>\n",
       "      <td>7.800000e+04</td>\n",
       "      <td>7.000000</td>\n",
       "      <td>12500.000000</td>\n",
       "      <td>13.470000</td>\n",
       "      <td>0.000000</td>\n",
       "      <td>0.230000</td>\n",
       "      <td>8.000000</td>\n",
       "    </tr>\n",
       "    <tr>\n",
       "      <th>max</th>\n",
       "      <td>32579.000000</td>\n",
       "      <td>144.000000</td>\n",
       "      <td>1.900000e+06</td>\n",
       "      <td>41.000000</td>\n",
       "      <td>35000.000000</td>\n",
       "      <td>21.740000</td>\n",
       "      <td>1.000000</td>\n",
       "      <td>0.770000</td>\n",
       "      <td>30.000000</td>\n",
       "    </tr>\n",
       "  </tbody>\n",
       "</table>\n",
       "</div>"
      ],
      "text/plain": [
       "                 Id          Age        Income   Emp_length        Amount  \\\n",
       "count   8145.000000  8145.000000  8.145000e+03  7909.000000   8145.000000   \n",
       "mean   16269.966974    27.689748  6.528496e+04     4.728790   9695.656845   \n",
       "std     9394.610528     6.229731  5.278421e+04     3.991919   6389.975388   \n",
       "min        4.000000    20.000000  4.000000e+03     0.000000    500.000000   \n",
       "25%     8134.000000    23.000000  3.860400e+04     2.000000   5000.000000   \n",
       "50%    16280.000000    26.000000  5.500000e+04     4.000000   8000.000000   \n",
       "75%    24325.000000    30.000000  7.800000e+04     7.000000  12500.000000   \n",
       "max    32579.000000   144.000000  1.900000e+06    41.000000  35000.000000   \n",
       "\n",
       "              Rate       Status  Percent_income  Cred_length  \n",
       "count  7383.000000  8145.000000     8145.000000  8145.000000  \n",
       "mean     11.040731     0.218171        0.171769     5.767342  \n",
       "std       3.226149     0.413029        0.106168     3.981448  \n",
       "min       5.420000     0.000000        0.000000     2.000000  \n",
       "25%       7.900000     0.000000        0.090000     3.000000  \n",
       "50%      10.990000     0.000000        0.150000     4.000000  \n",
       "75%      13.470000     0.000000        0.230000     8.000000  \n",
       "max      21.740000     1.000000        0.770000    30.000000  "
      ]
     },
     "execution_count": 5,
     "metadata": {},
     "output_type": "execute_result"
    }
   ],
   "source": [
    "df.describe()"
   ]
  },
  {
   "cell_type": "markdown",
   "metadata": {},
   "source": [
    "The columns *emp_length* and *rate* have missing values"
   ]
  },
  {
   "cell_type": "code",
   "execution_count": 6,
   "metadata": {},
   "outputs": [],
   "source": [
    "#drop irrelevant cols\n",
    "df.drop([\"Id\"], axis=1, inplace=True)"
   ]
  },
  {
   "cell_type": "code",
   "execution_count": 7,
   "metadata": {},
   "outputs": [
    {
     "data": {
      "text/html": [
       "<div>\n",
       "<style scoped>\n",
       "    .dataframe tbody tr th:only-of-type {\n",
       "        vertical-align: middle;\n",
       "    }\n",
       "\n",
       "    .dataframe tbody tr th {\n",
       "        vertical-align: top;\n",
       "    }\n",
       "\n",
       "    .dataframe thead th {\n",
       "        text-align: right;\n",
       "    }\n",
       "</style>\n",
       "<table border=\"1\" class=\"dataframe\">\n",
       "  <thead>\n",
       "    <tr style=\"text-align: right;\">\n",
       "      <th></th>\n",
       "      <th>Age</th>\n",
       "      <th>Income</th>\n",
       "      <th>Home</th>\n",
       "      <th>Emp_length</th>\n",
       "      <th>Intent</th>\n",
       "      <th>Amount</th>\n",
       "      <th>Rate</th>\n",
       "      <th>Status</th>\n",
       "      <th>Percent_income</th>\n",
       "      <th>Default</th>\n",
       "      <th>Cred_length</th>\n",
       "    </tr>\n",
       "  </thead>\n",
       "  <tbody>\n",
       "    <tr>\n",
       "      <th>0</th>\n",
       "      <td>23</td>\n",
       "      <td>88000</td>\n",
       "      <td>MORTGAGE</td>\n",
       "      <td>2.0</td>\n",
       "      <td>MEDICAL</td>\n",
       "      <td>6625</td>\n",
       "      <td>11.22</td>\n",
       "      <td>0</td>\n",
       "      <td>0.08</td>\n",
       "      <td>Y</td>\n",
       "      <td>3</td>\n",
       "    </tr>\n",
       "    <tr>\n",
       "      <th>1</th>\n",
       "      <td>23</td>\n",
       "      <td>30000</td>\n",
       "      <td>RENT</td>\n",
       "      <td>0.0</td>\n",
       "      <td>PERSONAL</td>\n",
       "      <td>1925</td>\n",
       "      <td>12.18</td>\n",
       "      <td>0</td>\n",
       "      <td>0.06</td>\n",
       "      <td>N</td>\n",
       "      <td>2</td>\n",
       "    </tr>\n",
       "    <tr>\n",
       "      <th>2</th>\n",
       "      <td>32</td>\n",
       "      <td>160000</td>\n",
       "      <td>MORTGAGE</td>\n",
       "      <td>9.0</td>\n",
       "      <td>DEBTCONSOLIDATION</td>\n",
       "      <td>12000</td>\n",
       "      <td>7.88</td>\n",
       "      <td>0</td>\n",
       "      <td>0.07</td>\n",
       "      <td>N</td>\n",
       "      <td>8</td>\n",
       "    </tr>\n",
       "    <tr>\n",
       "      <th>3</th>\n",
       "      <td>29</td>\n",
       "      <td>75000</td>\n",
       "      <td>OWN</td>\n",
       "      <td>3.0</td>\n",
       "      <td>HOMEIMPROVEMENT</td>\n",
       "      <td>12000</td>\n",
       "      <td>7.51</td>\n",
       "      <td>0</td>\n",
       "      <td>0.16</td>\n",
       "      <td>N</td>\n",
       "      <td>5</td>\n",
       "    </tr>\n",
       "    <tr>\n",
       "      <th>4</th>\n",
       "      <td>22</td>\n",
       "      <td>28800</td>\n",
       "      <td>RENT</td>\n",
       "      <td>2.0</td>\n",
       "      <td>VENTURE</td>\n",
       "      <td>14000</td>\n",
       "      <td>7.90</td>\n",
       "      <td>1</td>\n",
       "      <td>0.49</td>\n",
       "      <td>N</td>\n",
       "      <td>2</td>\n",
       "    </tr>\n",
       "  </tbody>\n",
       "</table>\n",
       "</div>"
      ],
      "text/plain": [
       "   Age  Income      Home  Emp_length             Intent  Amount   Rate  \\\n",
       "0   23   88000  MORTGAGE         2.0            MEDICAL    6625  11.22   \n",
       "1   23   30000      RENT         0.0           PERSONAL    1925  12.18   \n",
       "2   32  160000  MORTGAGE         9.0  DEBTCONSOLIDATION   12000   7.88   \n",
       "3   29   75000       OWN         3.0    HOMEIMPROVEMENT   12000   7.51   \n",
       "4   22   28800      RENT         2.0            VENTURE   14000   7.90   \n",
       "\n",
       "   Status  Percent_income Default  Cred_length  \n",
       "0       0            0.08       Y            3  \n",
       "1       0            0.06       N            2  \n",
       "2       0            0.07       N            8  \n",
       "3       0            0.16       N            5  \n",
       "4       1            0.49       N            2  "
      ]
     },
     "execution_count": 7,
     "metadata": {},
     "output_type": "execute_result"
    }
   ],
   "source": [
    "df.head()"
   ]
  },
  {
   "cell_type": "code",
   "execution_count": 8,
   "metadata": {},
   "outputs": [
    {
     "data": {
      "text/plain": [
       "Age                 int64\n",
       "Income              int64\n",
       "Home               object\n",
       "Emp_length        float64\n",
       "Intent             object\n",
       "Amount              int64\n",
       "Rate              float64\n",
       "Status              int64\n",
       "Percent_income    float64\n",
       "Default            object\n",
       "Cred_length         int64\n",
       "dtype: object"
      ]
     },
     "execution_count": 8,
     "metadata": {},
     "output_type": "execute_result"
    }
   ],
   "source": [
    "#Checking for data types\n",
    "df.dtypes"
   ]
  },
  {
   "cell_type": "markdown",
   "metadata": {},
   "source": [
    "Crucial columns are in the right data type"
   ]
  },
  {
   "cell_type": "code",
   "execution_count": 9,
   "metadata": {},
   "outputs": [
    {
     "data": {
      "text/plain": [
       "Intent\n",
       "EDUCATION             1636\n",
       "MEDICAL               1495\n",
       "VENTURE               1400\n",
       "PERSONAL              1396\n",
       "DEBT CONSOLIDATION    1310\n",
       "HOME IMPROVEMENT       908\n",
       "Name: count, dtype: int64"
      ]
     },
     "execution_count": 9,
     "metadata": {},
     "output_type": "execute_result"
    }
   ],
   "source": [
    "#add spacings to the intent column\n",
    "replacements = {\n",
    "    'DEBTCONSOLIDATION': 'DEBT CONSOLIDATION',\n",
    "    'HOMEIMPROVEMENT': 'HOME IMPROVEMENT'\n",
    "}\n",
    "\n",
    "df['Intent'] = df['Intent'].replace(replacements)\n",
    "df['Intent'].value_counts()"
   ]
  },
  {
   "cell_type": "code",
   "execution_count": 10,
   "metadata": {},
   "outputs": [
    {
     "data": {
      "text/plain": [
       "Age                 0\n",
       "Income              0\n",
       "Home                0\n",
       "Emp_length        236\n",
       "Intent              0\n",
       "Amount              0\n",
       "Rate              762\n",
       "Status              0\n",
       "Percent_income      0\n",
       "Default             0\n",
       "Cred_length         0\n",
       "dtype: int64"
      ]
     },
     "execution_count": 10,
     "metadata": {},
     "output_type": "execute_result"
    }
   ],
   "source": [
    "#find missing values\n",
    "df.isnull().sum()"
   ]
  },
  {
   "cell_type": "code",
   "execution_count": 11,
   "metadata": {},
   "outputs": [],
   "source": [
    "#remove every row (axis=0) that has \"any\" Null value in it.\n",
    "df=df.dropna(how='any', axis=0)"
   ]
  },
  {
   "cell_type": "code",
   "execution_count": 12,
   "metadata": {},
   "outputs": [
    {
     "data": {
      "text/plain": [
       "Age               0\n",
       "Income            0\n",
       "Home              0\n",
       "Emp_length        0\n",
       "Intent            0\n",
       "Amount            0\n",
       "Rate              0\n",
       "Status            0\n",
       "Percent_income    0\n",
       "Default           0\n",
       "Cred_length       0\n",
       "dtype: int64"
      ]
     },
     "execution_count": 12,
     "metadata": {},
     "output_type": "execute_result"
    }
   ],
   "source": [
    "df.isnull().sum()"
   ]
  },
  {
   "cell_type": "markdown",
   "metadata": {},
   "source": [
    "There are no null values"
   ]
  },
  {
   "cell_type": "code",
   "execution_count": 13,
   "metadata": {},
   "outputs": [
    {
     "data": {
      "text/html": [
       "<div>\n",
       "<style scoped>\n",
       "    .dataframe tbody tr th:only-of-type {\n",
       "        vertical-align: middle;\n",
       "    }\n",
       "\n",
       "    .dataframe tbody tr th {\n",
       "        vertical-align: top;\n",
       "    }\n",
       "\n",
       "    .dataframe thead th {\n",
       "        text-align: right;\n",
       "    }\n",
       "</style>\n",
       "<table border=\"1\" class=\"dataframe\">\n",
       "  <thead>\n",
       "    <tr style=\"text-align: right;\">\n",
       "      <th></th>\n",
       "      <th>Age</th>\n",
       "      <th>Income</th>\n",
       "      <th>Home</th>\n",
       "      <th>Emp_length</th>\n",
       "      <th>Intent</th>\n",
       "      <th>Amount</th>\n",
       "      <th>Rate</th>\n",
       "      <th>Status</th>\n",
       "      <th>Percent_income</th>\n",
       "      <th>Default</th>\n",
       "      <th>Cred_length</th>\n",
       "    </tr>\n",
       "  </thead>\n",
       "  <tbody>\n",
       "    <tr>\n",
       "      <th>0</th>\n",
       "      <td>23</td>\n",
       "      <td>88000</td>\n",
       "      <td>MORTGAGE</td>\n",
       "      <td>2.0</td>\n",
       "      <td>MEDICAL</td>\n",
       "      <td>6625</td>\n",
       "      <td>11.22</td>\n",
       "      <td>0</td>\n",
       "      <td>0.08</td>\n",
       "      <td>Y</td>\n",
       "      <td>3</td>\n",
       "    </tr>\n",
       "    <tr>\n",
       "      <th>1</th>\n",
       "      <td>23</td>\n",
       "      <td>30000</td>\n",
       "      <td>RENT</td>\n",
       "      <td>0.0</td>\n",
       "      <td>PERSONAL</td>\n",
       "      <td>1925</td>\n",
       "      <td>12.18</td>\n",
       "      <td>0</td>\n",
       "      <td>0.06</td>\n",
       "      <td>N</td>\n",
       "      <td>2</td>\n",
       "    </tr>\n",
       "    <tr>\n",
       "      <th>2</th>\n",
       "      <td>32</td>\n",
       "      <td>160000</td>\n",
       "      <td>MORTGAGE</td>\n",
       "      <td>9.0</td>\n",
       "      <td>DEBT CONSOLIDATION</td>\n",
       "      <td>12000</td>\n",
       "      <td>7.88</td>\n",
       "      <td>0</td>\n",
       "      <td>0.07</td>\n",
       "      <td>N</td>\n",
       "      <td>8</td>\n",
       "    </tr>\n",
       "    <tr>\n",
       "      <th>3</th>\n",
       "      <td>29</td>\n",
       "      <td>75000</td>\n",
       "      <td>OWN</td>\n",
       "      <td>3.0</td>\n",
       "      <td>HOME IMPROVEMENT</td>\n",
       "      <td>12000</td>\n",
       "      <td>7.51</td>\n",
       "      <td>0</td>\n",
       "      <td>0.16</td>\n",
       "      <td>N</td>\n",
       "      <td>5</td>\n",
       "    </tr>\n",
       "    <tr>\n",
       "      <th>4</th>\n",
       "      <td>22</td>\n",
       "      <td>28800</td>\n",
       "      <td>RENT</td>\n",
       "      <td>2.0</td>\n",
       "      <td>VENTURE</td>\n",
       "      <td>14000</td>\n",
       "      <td>7.90</td>\n",
       "      <td>1</td>\n",
       "      <td>0.49</td>\n",
       "      <td>N</td>\n",
       "      <td>2</td>\n",
       "    </tr>\n",
       "  </tbody>\n",
       "</table>\n",
       "</div>"
      ],
      "text/plain": [
       "   Age  Income      Home  Emp_length              Intent  Amount   Rate  \\\n",
       "0   23   88000  MORTGAGE         2.0             MEDICAL    6625  11.22   \n",
       "1   23   30000      RENT         0.0            PERSONAL    1925  12.18   \n",
       "2   32  160000  MORTGAGE         9.0  DEBT CONSOLIDATION   12000   7.88   \n",
       "3   29   75000       OWN         3.0    HOME IMPROVEMENT   12000   7.51   \n",
       "4   22   28800      RENT         2.0             VENTURE   14000   7.90   \n",
       "\n",
       "   Status  Percent_income Default  Cred_length  \n",
       "0       0            0.08       Y            3  \n",
       "1       0            0.06       N            2  \n",
       "2       0            0.07       N            8  \n",
       "3       0            0.16       N            5  \n",
       "4       1            0.49       N            2  "
      ]
     },
     "execution_count": 13,
     "metadata": {},
     "output_type": "execute_result"
    }
   ],
   "source": [
    "df.head()"
   ]
  },
  {
   "cell_type": "markdown",
   "metadata": {},
   "source": [
    "## EDA"
   ]
  },
  {
   "cell_type": "code",
   "execution_count": 22,
   "metadata": {},
   "outputs": [
    {
     "ename": "ValueError",
     "evalue": "could not convert string to float: 'MORTGAGE'",
     "output_type": "error",
     "traceback": [
      "\u001b[1;31m---------------------------------------------------------------------------\u001b[0m",
      "\u001b[1;31mValueError\u001b[0m                                Traceback (most recent call last)",
      "Cell \u001b[1;32mIn[22], line 1\u001b[0m\n\u001b[1;32m----> 1\u001b[0m \u001b[43mdf\u001b[49m\u001b[38;5;241;43m.\u001b[39;49m\u001b[43mcorr\u001b[49m\u001b[43m(\u001b[49m\u001b[43m)\u001b[49m\n",
      "File \u001b[1;32m~\\AppData\\Local\\Packages\\PythonSoftwareFoundation.Python.3.12_qbz5n2kfra8p0\\LocalCache\\local-packages\\Python312\\site-packages\\pandas\\core\\frame.py:11049\u001b[0m, in \u001b[0;36mDataFrame.corr\u001b[1;34m(self, method, min_periods, numeric_only)\u001b[0m\n\u001b[0;32m  11047\u001b[0m cols \u001b[38;5;241m=\u001b[39m data\u001b[38;5;241m.\u001b[39mcolumns\n\u001b[0;32m  11048\u001b[0m idx \u001b[38;5;241m=\u001b[39m cols\u001b[38;5;241m.\u001b[39mcopy()\n\u001b[1;32m> 11049\u001b[0m mat \u001b[38;5;241m=\u001b[39m \u001b[43mdata\u001b[49m\u001b[38;5;241;43m.\u001b[39;49m\u001b[43mto_numpy\u001b[49m\u001b[43m(\u001b[49m\u001b[43mdtype\u001b[49m\u001b[38;5;241;43m=\u001b[39;49m\u001b[38;5;28;43mfloat\u001b[39;49m\u001b[43m,\u001b[49m\u001b[43m \u001b[49m\u001b[43mna_value\u001b[49m\u001b[38;5;241;43m=\u001b[39;49m\u001b[43mnp\u001b[49m\u001b[38;5;241;43m.\u001b[39;49m\u001b[43mnan\u001b[49m\u001b[43m,\u001b[49m\u001b[43m \u001b[49m\u001b[43mcopy\u001b[49m\u001b[38;5;241;43m=\u001b[39;49m\u001b[38;5;28;43;01mFalse\u001b[39;49;00m\u001b[43m)\u001b[49m\n\u001b[0;32m  11051\u001b[0m \u001b[38;5;28;01mif\u001b[39;00m method \u001b[38;5;241m==\u001b[39m \u001b[38;5;124m\"\u001b[39m\u001b[38;5;124mpearson\u001b[39m\u001b[38;5;124m\"\u001b[39m:\n\u001b[0;32m  11052\u001b[0m     correl \u001b[38;5;241m=\u001b[39m libalgos\u001b[38;5;241m.\u001b[39mnancorr(mat, minp\u001b[38;5;241m=\u001b[39mmin_periods)\n",
      "File \u001b[1;32m~\\AppData\\Local\\Packages\\PythonSoftwareFoundation.Python.3.12_qbz5n2kfra8p0\\LocalCache\\local-packages\\Python312\\site-packages\\pandas\\core\\frame.py:1993\u001b[0m, in \u001b[0;36mDataFrame.to_numpy\u001b[1;34m(self, dtype, copy, na_value)\u001b[0m\n\u001b[0;32m   1991\u001b[0m \u001b[38;5;28;01mif\u001b[39;00m dtype \u001b[38;5;129;01mis\u001b[39;00m \u001b[38;5;129;01mnot\u001b[39;00m \u001b[38;5;28;01mNone\u001b[39;00m:\n\u001b[0;32m   1992\u001b[0m     dtype \u001b[38;5;241m=\u001b[39m np\u001b[38;5;241m.\u001b[39mdtype(dtype)\n\u001b[1;32m-> 1993\u001b[0m result \u001b[38;5;241m=\u001b[39m \u001b[38;5;28;43mself\u001b[39;49m\u001b[38;5;241;43m.\u001b[39;49m\u001b[43m_mgr\u001b[49m\u001b[38;5;241;43m.\u001b[39;49m\u001b[43mas_array\u001b[49m\u001b[43m(\u001b[49m\u001b[43mdtype\u001b[49m\u001b[38;5;241;43m=\u001b[39;49m\u001b[43mdtype\u001b[49m\u001b[43m,\u001b[49m\u001b[43m \u001b[49m\u001b[43mcopy\u001b[49m\u001b[38;5;241;43m=\u001b[39;49m\u001b[43mcopy\u001b[49m\u001b[43m,\u001b[49m\u001b[43m \u001b[49m\u001b[43mna_value\u001b[49m\u001b[38;5;241;43m=\u001b[39;49m\u001b[43mna_value\u001b[49m\u001b[43m)\u001b[49m\n\u001b[0;32m   1994\u001b[0m \u001b[38;5;28;01mif\u001b[39;00m result\u001b[38;5;241m.\u001b[39mdtype \u001b[38;5;129;01mis\u001b[39;00m \u001b[38;5;129;01mnot\u001b[39;00m dtype:\n\u001b[0;32m   1995\u001b[0m     result \u001b[38;5;241m=\u001b[39m np\u001b[38;5;241m.\u001b[39masarray(result, dtype\u001b[38;5;241m=\u001b[39mdtype)\n",
      "File \u001b[1;32m~\\AppData\\Local\\Packages\\PythonSoftwareFoundation.Python.3.12_qbz5n2kfra8p0\\LocalCache\\local-packages\\Python312\\site-packages\\pandas\\core\\internals\\managers.py:1694\u001b[0m, in \u001b[0;36mBlockManager.as_array\u001b[1;34m(self, dtype, copy, na_value)\u001b[0m\n\u001b[0;32m   1692\u001b[0m         arr\u001b[38;5;241m.\u001b[39mflags\u001b[38;5;241m.\u001b[39mwriteable \u001b[38;5;241m=\u001b[39m \u001b[38;5;28;01mFalse\u001b[39;00m\n\u001b[0;32m   1693\u001b[0m \u001b[38;5;28;01melse\u001b[39;00m:\n\u001b[1;32m-> 1694\u001b[0m     arr \u001b[38;5;241m=\u001b[39m \u001b[38;5;28;43mself\u001b[39;49m\u001b[38;5;241;43m.\u001b[39;49m\u001b[43m_interleave\u001b[49m\u001b[43m(\u001b[49m\u001b[43mdtype\u001b[49m\u001b[38;5;241;43m=\u001b[39;49m\u001b[43mdtype\u001b[49m\u001b[43m,\u001b[49m\u001b[43m \u001b[49m\u001b[43mna_value\u001b[49m\u001b[38;5;241;43m=\u001b[39;49m\u001b[43mna_value\u001b[49m\u001b[43m)\u001b[49m\n\u001b[0;32m   1695\u001b[0m     \u001b[38;5;66;03m# The underlying data was copied within _interleave, so no need\u001b[39;00m\n\u001b[0;32m   1696\u001b[0m     \u001b[38;5;66;03m# to further copy if copy=True or setting na_value\u001b[39;00m\n\u001b[0;32m   1698\u001b[0m \u001b[38;5;28;01mif\u001b[39;00m na_value \u001b[38;5;129;01mis\u001b[39;00m lib\u001b[38;5;241m.\u001b[39mno_default:\n",
      "File \u001b[1;32m~\\AppData\\Local\\Packages\\PythonSoftwareFoundation.Python.3.12_qbz5n2kfra8p0\\LocalCache\\local-packages\\Python312\\site-packages\\pandas\\core\\internals\\managers.py:1753\u001b[0m, in \u001b[0;36mBlockManager._interleave\u001b[1;34m(self, dtype, na_value)\u001b[0m\n\u001b[0;32m   1751\u001b[0m     \u001b[38;5;28;01melse\u001b[39;00m:\n\u001b[0;32m   1752\u001b[0m         arr \u001b[38;5;241m=\u001b[39m blk\u001b[38;5;241m.\u001b[39mget_values(dtype)\n\u001b[1;32m-> 1753\u001b[0m     \u001b[43mresult\u001b[49m\u001b[43m[\u001b[49m\u001b[43mrl\u001b[49m\u001b[38;5;241;43m.\u001b[39;49m\u001b[43mindexer\u001b[49m\u001b[43m]\u001b[49m \u001b[38;5;241m=\u001b[39m arr\n\u001b[0;32m   1754\u001b[0m     itemmask[rl\u001b[38;5;241m.\u001b[39mindexer] \u001b[38;5;241m=\u001b[39m \u001b[38;5;241m1\u001b[39m\n\u001b[0;32m   1756\u001b[0m \u001b[38;5;28;01mif\u001b[39;00m \u001b[38;5;129;01mnot\u001b[39;00m itemmask\u001b[38;5;241m.\u001b[39mall():\n",
      "\u001b[1;31mValueError\u001b[0m: could not convert string to float: 'MORTGAGE'"
     ]
    }
   ],
   "source": [
    "df.corr()"
   ]
  },
  {
   "cell_type": "code",
   "execution_count": 14,
   "metadata": {},
   "outputs": [
    {
     "data": {
      "text/plain": [
       "(20.0, 70.0)"
      ]
     },
     "execution_count": 14,
     "metadata": {},
     "output_type": "execute_result"
    },
    {
     "data": {
      "image/png": "[encoded data removed]",
      "text/plain": [
       "<Figure size 640x480 with 1 Axes>"
      ]
     },
     "metadata": {},
     "output_type": "display_data"
    }
   ],
   "source": [
    "#Loan distribution per\n",
    "fig = sns.histplot(data=df, x='Age', binwidth=5)\n",
    "fig.set_xlim(20, 70)"
   ]
  },
  {
   "cell_type": "code",
   "execution_count": 15,
   "metadata": {},
   "outputs": [],
   "source": [
    "#correlation between age and income\n",
    "df_scatter = df\n",
    "df_scatter['Income'] = df_scatter['Income']/4\n"
   ]
  },
  {
   "cell_type": "code",
   "execution_count": 19,
   "metadata": {},
   "outputs": [
    {
     "data": {
      "text/plain": [
       "(20.0, 70.0)"
      ]
     },
     "execution_count": 19,
     "metadata": {},
     "output_type": "execute_result"
    },
    {
     "data": {
      "image/png": "[encoded data removed]",
      "text/plain": [
       "<Figure size 640x480 with 1 Axes>"
      ]
     },
     "metadata": {},
     "output_type": "display_data"
    }
   ],
   "source": [
    "fig = sns.scatterplot(data=df_scatter, x='Age', y='Income')\n",
    "fig.set_xlim(20,70)"
   ]
  },
  {
   "cell_type": "code",
   "execution_count": 26,
   "metadata": {},
   "outputs": [
    {
     "data": {
      "text/plain": [
       "(20.0, 70.0)"
      ]
     },
     "execution_count": 26,
     "metadata": {},
     "output_type": "execute_result"
    },
    {
     "data": {
      "image/png": "[encoded data removed]",
      "text/plain": [
       "<Figure size 640x480 with 1 Axes>"
      ]
     },
     "metadata": {},
     "output_type": "display_data"
    }
   ],
   "source": [
    "fig = sns.scatterplot(data=df_scatter, x='Age', y='Amount')\n",
    "fig.set_xlim(20,70)\n"
   ]
  }
 ],
 "metadata": {
  "kernelspec": {
   "display_name": "Python 3",
   "language": "python",
   "name": "python3"
  },
  "language_info": {
   "codemirror_mode": {
    "name": "ipython",
    "version": 3
   },
   "file_extension": ".py",
   "mimetype": "text/x-python",
   "name": "python",
   "nbconvert_exporter": "python",
   "pygments_lexer": "ipython3",
   "version": "3.12.8"
  }
 },
 "nbformat": 4,
 "nbformat_minor": 2
}
